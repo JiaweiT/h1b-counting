{
 "cells": [
  {
   "cell_type": "code",
   "execution_count": 6,
   "metadata": {},
   "outputs": [
    {
     "name": "stdout",
     "output_type": "stream",
     "text": [
      ", LCA_CASE_NUMBER, STATUS, LCA_CASE_SUBMIT, DECISION_DATE, VISA_CLASS, LCA_CASE_EMPLOYMENT_START_DATE, LCA_CASE_EMPLOYMENT_END_DATE, LCA_CASE_EMPLOYER_NAME, LCA_CASE_EMPLOYER_ADDRESS, LCA_CASE_EMPLOYER_CITY, LCA_CASE_EMPLOYER_STATE, LCA_CASE_EMPLOYER_POSTAL_CODE, LCA_CASE_SOC_CODE, LCA_CASE_SOC_NAME, LCA_CASE_JOB_TITLE, LCA_CASE_WAGE_RATE_FROM, LCA_CASE_WAGE_RATE_TO, LCA_CASE_WAGE_RATE_UNIT, FULL_TIME_POS, TOTAL_WORKERS, LCA_CASE_WORKLOC1_CITY, LCA_CASE_WORKLOC1_STATE, PW_1, PW_UNIT_1, PW_SOURCE_1, OTHER_WAGE_SOURCE_1, YR_SOURCE_PUB_1, LCA_CASE_WORKLOC2_CITY, LCA_CASE_WORKLOC2_STATE, PW_2, PW_UNIT_2, PW_SOURCE_2, OTHER_WAGE_SOURCE_2, YR_SOURCE_PUB_2, LCA_CASE_NAICS_CODE\n"
     ]
    },
    {
     "ename": "TypeError",
     "evalue": "list indices must be integers or slices, not NoneType",
     "output_type": "error",
     "traceback": [
      "\u001b[0;31m---------------------------------------------------------------------------\u001b[0m",
      "\u001b[0;31mTypeError\u001b[0m                                 Traceback (most recent call last)",
      "\u001b[0;32m<ipython-input-6-af77e549ad48>\u001b[0m in \u001b[0;36m<module>\u001b[0;34m()\u001b[0m\n\u001b[1;32m     25\u001b[0m                     \u001b[0;32mbreak\u001b[0m\u001b[0;34m\u001b[0m\u001b[0m\n\u001b[1;32m     26\u001b[0m         \u001b[0;32melse\u001b[0m\u001b[0;34m:\u001b[0m\u001b[0;34m\u001b[0m\u001b[0m\n\u001b[0;32m---> 27\u001b[0;31m             \u001b[0mprint\u001b[0m\u001b[0;34m(\u001b[0m\u001b[0mrow\u001b[0m\u001b[0;34m[\u001b[0m\u001b[0mstate_idx\u001b[0m\u001b[0;34m]\u001b[0m\u001b[0;34m,\u001b[0m\u001b[0mrow\u001b[0m\u001b[0;34m[\u001b[0m\u001b[0mtitle_idx\u001b[0m\u001b[0;34m]\u001b[0m\u001b[0;34m)\u001b[0m\u001b[0;34m\u001b[0m\u001b[0m\n\u001b[0m\u001b[1;32m     28\u001b[0m             \u001b[0;32mif\u001b[0m \u001b[0mrow\u001b[0m\u001b[0;34m[\u001b[0m\u001b[0mstatus_idx\u001b[0m\u001b[0;34m]\u001b[0m \u001b[0;34m==\u001b[0m \u001b[0;34m'CERTIFIED'\u001b[0m\u001b[0;34m:\u001b[0m\u001b[0;34m\u001b[0m\u001b[0m\n\u001b[1;32m     29\u001b[0m                 \u001b[0;32mtry\u001b[0m\u001b[0;34m:\u001b[0m\u001b[0;34m\u001b[0m\u001b[0m\n",
      "\u001b[0;31mTypeError\u001b[0m: list indices must be integers or slices, not NoneType"
     ]
    }
   ],
   "source": [
    "with open(\"../../my-own-test_2014/input/h1b_input.csv\",\"r\") as csvfile:\n",
    "    line_count = 0\n",
    "    state_dict = {}\n",
    "    occupation_dict = {}\n",
    "    for row in csvfile.readlines():   \n",
    "        row = row.strip('\\n').split(';')\n",
    "        \n",
    "        # get column names and find out index of state, job title and status\n",
    "        if line_count == 0:\n",
    "            print(', '.join(row))\n",
    "            state_idx = None\n",
    "            title_idx = None\n",
    "            status_idx = None            \n",
    "            for i in range(len(row)):\n",
    "                # I think that EMPLOYER_STATE is better than worksite state \n",
    "                # because in 2014 one person can have two worksite state\n",
    "                if 'STATE' in row [i] and 'WORK' in row [i] and state_idx is None:\n",
    "                    state_idx = i\n",
    "                elif 'SOC_NAME' in row [i]:\n",
    "                    title_idx = i\n",
    "                elif 'STATUS' in row [i]:\n",
    "                    status_idx = i\n",
    "\n",
    "                if state_idx and title_idx and status_idx:\n",
    "                    break   \n",
    "        else:\n",
    "            print(row[state_idx],row[title_idx])\n",
    "            if row[status_idx] == 'CERTIFIED':\n",
    "                try:\n",
    "                    state_dict[row[state_idx].strip('\\\"')] += 1\n",
    "                except:\n",
    "                    state_dict[row[state_idx].strip('\\\"')] = 1\n",
    "                try:\n",
    "                    occupation_dict[row[title_idx].strip('\\\"')] += 1\n",
    "                except:\n",
    "                    occupation_dict[row[title_idx].strip('\\\"')] = 1\n",
    "        # use the two lines below to control row number when testing\n",
    "            if line_count == 10:\n",
    "                break\n",
    "        line_count += 1\n",
    "print(f'Processed {line_count} lines.')"
   ]
  },
  {
   "cell_type": "code",
   "execution_count": 3,
   "metadata": {},
   "outputs": [
    {
     "data": {
      "text/plain": [
       "{'AK': 1,\n",
       " 'ALBEMARLE': 1,\n",
       " 'AR': 5,\n",
       " 'AZ': 13,\n",
       " 'CA': 186,\n",
       " 'CAMPBELL': 1,\n",
       " 'CO': 19,\n",
       " 'CONTRA COSTA COUNTY': 1,\n",
       " 'CT': 10,\n",
       " 'DC': 13,\n",
       " 'DE': 1,\n",
       " 'FL': 76,\n",
       " 'GA': 28,\n",
       " 'GU': 2,\n",
       " 'HI': 6,\n",
       " 'IA': 2,\n",
       " 'IL': 47,\n",
       " 'IN': 9,\n",
       " 'KS': 3,\n",
       " 'KY': 5,\n",
       " 'LA': 3,\n",
       " 'MA': 29,\n",
       " 'MD': 9,\n",
       " 'MI': 14,\n",
       " 'MN': 4,\n",
       " 'MO': 5,\n",
       " 'MOUNTAIN CITY': 1,\n",
       " 'MP': 4,\n",
       " 'MS': 1,\n",
       " 'NC': 13,\n",
       " 'NE': 3,\n",
       " 'NJ': 20,\n",
       " 'NM': 1,\n",
       " 'NV': 17,\n",
       " 'NY': 91,\n",
       " 'OH': 14,\n",
       " 'OK': 2,\n",
       " 'PA': 15,\n",
       " 'PR': 3,\n",
       " 'RI': 1,\n",
       " 'SC': 8,\n",
       " 'TN': 7,\n",
       " 'TX': 57,\n",
       " 'UT': 16,\n",
       " 'VA': 13,\n",
       " 'VI': 1,\n",
       " 'WA': 13,\n",
       " 'WI': 8,\n",
       " 'WY': 1}"
      ]
     },
     "execution_count": 3,
     "metadata": {},
     "output_type": "execute_result"
    }
   ],
   "source": [
    "state_dict"
   ]
  },
  {
   "cell_type": "code",
   "execution_count": 19,
   "metadata": {},
   "outputs": [
    {
     "data": {
      "text/plain": [
       "[('SOFTWARE DEVELOPERS, APPLICATIONS', 6),\n",
       " ('ACCOUNTANTS AND AUDITORS', 1),\n",
       " ('DATABASE ADMINISTRATORS', 1),\n",
       " ('COMPUTER SYSTEMS ANALYST', 1),\n",
       " ('COMPUTER OCCUPATIONS, ALL OTHER', 1)]"
      ]
     },
     "execution_count": 19,
     "metadata": {},
     "output_type": "execute_result"
    }
   ],
   "source": [
    "occupation_result = sorted(occupation_dict.items(), reverse=True, key = lambda x: x[1])\n",
    "occupation_result"
   ]
  },
  {
   "cell_type": "code",
   "execution_count": 22,
   "metadata": {},
   "outputs": [
    {
     "data": {
      "text/plain": [
       "'20.0%'"
      ]
     },
     "execution_count": 22,
     "metadata": {},
     "output_type": "execute_result"
    }
   ],
   "source": [
    "total = sum(occupation_dict.values())\n",
    "i = 0\n",
    "str(round(state_result[i][1]/total*100, 1)) + '%'"
   ]
  },
  {
   "cell_type": "code",
   "execution_count": 23,
   "metadata": {},
   "outputs": [
    {
     "data": {
      "text/plain": [
       "('FL', 2)"
      ]
     },
     "execution_count": 23,
     "metadata": {},
     "output_type": "execute_result"
    }
   ],
   "source": [
    "state_result[i]"
   ]
  }
 ],
 "metadata": {
  "kernelspec": {
   "display_name": "Python [conda env:anaconda3]",
   "language": "python",
   "name": "conda-env-anaconda3-py"
  },
  "language_info": {
   "codemirror_mode": {
    "name": "ipython",
    "version": 3
   },
   "file_extension": ".py",
   "mimetype": "text/x-python",
   "name": "python",
   "nbconvert_exporter": "python",
   "pygments_lexer": "ipython3",
   "version": "3.6.4"
  }
 },
 "nbformat": 4,
 "nbformat_minor": 2
}
