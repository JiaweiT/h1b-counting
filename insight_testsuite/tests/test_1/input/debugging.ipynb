{
 "cells": [
  {
   "cell_type": "code",
   "execution_count": 13,
   "metadata": {},
   "outputs": [
    {
     "name": "stdout",
     "output_type": "stream",
     "text": [
      ", CASE_NUMBER, CASE_STATUS, CASE_SUBMITTED, DECISION_DATE, VISA_CLASS, EMPLOYMENT_START_DATE, EMPLOYMENT_END_DATE, EMPLOYER_NAME, EMPLOYER_BUSINESS_DBA, EMPLOYER_ADDRESS, EMPLOYER_CITY, EMPLOYER_STATE, EMPLOYER_POSTAL_CODE, EMPLOYER_COUNTRY, EMPLOYER_PROVINCE, EMPLOYER_PHONE, EMPLOYER_PHONE_EXT, AGENT_REPRESENTING_EMPLOYER, AGENT_ATTORNEY_NAME, AGENT_ATTORNEY_CITY, AGENT_ATTORNEY_STATE, JOB_TITLE, SOC_CODE, SOC_NAME, NAICS_CODE, TOTAL_WORKERS, NEW_EMPLOYMENT, CONTINUED_EMPLOYMENT, CHANGE_PREVIOUS_EMPLOYMENT, NEW_CONCURRENT_EMP, CHANGE_EMPLOYER, AMENDED_PETITION, FULL_TIME_POSITION, PREVAILING_WAGE, PW_UNIT_OF_PAY, PW_WAGE_LEVEL, PW_SOURCE, PW_SOURCE_YEAR, PW_SOURCE_OTHER, WAGE_RATE_OF_PAY_FROM, WAGE_RATE_OF_PAY_TO, WAGE_UNIT_OF_PAY, H1B_DEPENDENT, WILLFUL_VIOLATOR, SUPPORT_H1B, LABOR_CON_AGREE, PUBLIC_DISCLOSURE_LOCATION, WORKSITE_CITY, WORKSITE_COUNTY, WORKSITE_STATE, WORKSITE_POSTAL_CODE, ORIGINAL_CERT_DATE\n",
      "WA \"SOFTWARE DEVELOPERS, APPLICATIONS\"\n",
      "CA ACCOUNTANTS AND AUDITORS\n",
      "TX DATABASE ADMINISTRATORS\n",
      "DE \"SOFTWARE DEVELOPERS, APPLICATIONS\"\n",
      "AL \"SOFTWARE DEVELOPERS, APPLICATIONS\"\n",
      "FL \"SOFTWARE DEVELOPERS, APPLICATIONS\"\n",
      "FL \"SOFTWARE DEVELOPERS, APPLICATIONS\"\n",
      "MD COMPUTER SYSTEMS ANALYST\n",
      "NJ \"COMPUTER OCCUPATIONS, ALL OTHER\"\n",
      "GA \"SOFTWARE DEVELOPERS, APPLICATIONS\"\n",
      "FL \"SOFTWARE DEVELOPERS, APPLICATIONS\"\n",
      "FL \"SOFTWARE DEVELOPERS, APPLICATIONS\"\n",
      "MD COMPUTER SYSTEMS ANALYST\n",
      "NJ \"COMPUTER OCCUPATIONS, ALL OTHER\"\n",
      "GA \"SOFTWARE DEVELOPERS, APPLICATIONS\"\n",
      "MD COMPUTER SYSTEMS ANALYST\n",
      "NJ \"COMPUTER OCCUPATIONS, ALL OTHER\"\n",
      "GA \"SOFTWARE DEVELOPERS, APPLICATIONS\"\n",
      "FL \"SOFTWARE DEVELOPERS, APPLICATIONS\"\n",
      "FL \"SOFTWARE DEVELOPERS, APPLICATIONS\"\n",
      "MD COMPUTER SYSTEMS ANALYST\n",
      "CA ACCOUNTANTS AND AUDITORS\n",
      "Processed 23 lines.\n"
     ]
    }
   ],
   "source": [
    "with open(\"../../my-own-test_2/input/h1b_input.csv\",\"r\") as csvfile:\n",
    "    line_count = 0\n",
    "    state_dict = {}\n",
    "    occupation_dict = {}\n",
    "    for row in csvfile.readlines():   \n",
    "        row = row.strip('\\n').split(';')\n",
    "        \n",
    "        # get column names and find out index of state, job title and status\n",
    "        if line_count == 0:\n",
    "            print(', '.join(row))\n",
    "            state_idx = None\n",
    "            title_idx = None\n",
    "            status_idx = None            \n",
    "            for i in range(len(row)):\n",
    "                # I think that EMPLOYER_STATE is better than worksite state \n",
    "                # because in 2014 one person can have two worksite state\n",
    "                if 'STATE' in row [i] and 'WORK' in row [i] and state_idx is None:\n",
    "                    state_idx = i\n",
    "                elif 'SOC_NAME' in row [i]:\n",
    "                    title_idx = i\n",
    "                elif 'STATUS' in row [i]:\n",
    "                    status_idx = i\n",
    "\n",
    "                if state_idx and title_idx and status_idx:\n",
    "                    break   \n",
    "        else:\n",
    "            print(row[state_idx],row[title_idx])\n",
    "            if row[status_idx] == 'CERTIFIED':\n",
    "                try:\n",
    "                    state_dict[row[state_idx].strip('\\\"')] += 1\n",
    "                except:\n",
    "                    state_dict[row[state_idx].strip('\\\"')] = 1\n",
    "                try:\n",
    "                    occupation_dict[row[title_idx].strip('\\\"')] += 1\n",
    "                except:\n",
    "                    occupation_dict[row[title_idx].strip('\\\"')] = 1\n",
    "        # use the two lines below to control row number when testing\n",
    "#             if line_count == 10:\n",
    "#                 break\n",
    "        line_count += 1\n",
    "print(f'Processed {line_count} lines.')"
   ]
  },
  {
   "cell_type": "code",
   "execution_count": 14,
   "metadata": {},
   "outputs": [
    {
     "data": {
      "text/plain": [
       "{'AL': 1,\n",
       " 'CA': 2,\n",
       " 'DE': 1,\n",
       " 'FL': 6,\n",
       " 'GA': 3,\n",
       " 'MD': 4,\n",
       " 'NJ': 3,\n",
       " 'TX': 1,\n",
       " 'WA': 1}"
      ]
     },
     "execution_count": 14,
     "metadata": {},
     "output_type": "execute_result"
    }
   ],
   "source": [
    "state_dict"
   ]
  },
  {
   "cell_type": "code",
   "execution_count": 15,
   "metadata": {},
   "outputs": [
    {
     "data": {
      "text/plain": [
       "[('SOFTWARE DEVELOPERS, APPLICATIONS', 12),\n",
       " ('COMPUTER SYSTEMS ANALYST', 4),\n",
       " ('COMPUTER OCCUPATIONS, ALL OTHER', 3),\n",
       " ('ACCOUNTANTS AND AUDITORS', 2),\n",
       " ('DATABASE ADMINISTRATORS', 1)]"
      ]
     },
     "execution_count": 15,
     "metadata": {},
     "output_type": "execute_result"
    }
   ],
   "source": [
    "occupation_result = sorted(occupation_dict.items(), reverse=True, key = lambda x: x[1])\n",
    "occupation_result"
   ]
  },
  {
   "cell_type": "code",
   "execution_count": 22,
   "metadata": {},
   "outputs": [
    {
     "data": {
      "text/plain": [
       "'20.0%'"
      ]
     },
     "execution_count": 22,
     "metadata": {},
     "output_type": "execute_result"
    }
   ],
   "source": [
    "total = sum(occupation_dict.values())\n",
    "i = 0\n",
    "str(round(state_result[i][1]/total*100, 1)) + '%'"
   ]
  },
  {
   "cell_type": "code",
   "execution_count": 23,
   "metadata": {},
   "outputs": [
    {
     "data": {
      "text/plain": [
       "('FL', 2)"
      ]
     },
     "execution_count": 23,
     "metadata": {},
     "output_type": "execute_result"
    }
   ],
   "source": [
    "state_result[i]"
   ]
  }
 ],
 "metadata": {
  "kernelspec": {
   "display_name": "Python [conda env:anaconda3]",
   "language": "python",
   "name": "conda-env-anaconda3-py"
  },
  "language_info": {
   "codemirror_mode": {
    "name": "ipython",
    "version": 3
   },
   "file_extension": ".py",
   "mimetype": "text/x-python",
   "name": "python",
   "nbconvert_exporter": "python",
   "pygments_lexer": "ipython3",
   "version": "3.6.4"
  }
 },
 "nbformat": 4,
 "nbformat_minor": 2
}
